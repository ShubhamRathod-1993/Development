{
 "cells": [
  {
   "cell_type": "markdown",
   "metadata": {},
   "source": [
    "# Pattern-Programs-In-Python"
   ]
  },
  {
   "cell_type": "markdown",
   "metadata": {},
   "source": [
    "## 1. Square Pattern in Python"
   ]
  },
  {
   "cell_type": "markdown",
   "metadata": {},
   "source": [
    "1. Take size of the square as input from the user or just set a value.\n",
    "2. Run a nested loop for the number of rows and columns.\n",
    "3. Print the star in each iteration and print a new line after each row."
   ]
  },
  {
   "cell_type": "markdown",
   "metadata": {},
   "source": []
  },
  {
   "cell_type": "code",
   "execution_count": 5,
   "metadata": {},
   "outputs": [
    {
     "name": "stdout",
     "output_type": "stream",
     "text": [
      "*****\n",
      "*****\n",
      "*****\n",
      "*****\n",
      "*****\n",
      "\n",
      "*****\n",
      "*****\n",
      "*****\n",
      "*****\n",
      "*****\n"
     ]
    }
   ],
   "source": [
    "#beginners\n",
    "\n",
    "# square pattern program\n",
    "size=5\n",
    "def square_pattern_program(size):\n",
    "    # create a list of rows\n",
    "    for i in range(0, size):\n",
    "        #create a list of columns\n",
    "        for j in range(0,size):\n",
    "            print('*',end=\"\")\n",
    "        print()\n",
    "        \n",
    "square_pattern_program(size)\n",
    "print()\n",
    "# pro\n",
    "for i in range(0,size):\n",
    "    print(\"*\" * size)\n",
    "    "
   ]
  },
  {
   "cell_type": "markdown",
   "metadata": {},
   "source": [
    "## 2. Hollow Square Pattern"
   ]
  },
  {
   "cell_type": "markdown",
   "metadata": {},
   "source": [
    "1. To create hollow pattern again run a nested for loop.\n",
    "2. External loop will be same as the previous square pattern but inside internal loop you will have to check the condition.\n",
    "3. If its the first or last row or column then print only stars.\n",
    "4. Otherwise check if its the first or last column then print star else print spaces."
   ]
  },
  {
   "cell_type": "code",
   "execution_count": 11,
   "metadata": {},
   "outputs": [
    {
     "name": "stdout",
     "output_type": "stream",
     "text": [
      "*****\n",
      "*   *\n",
      "*   *\n",
      "*   *\n",
      "*****\n",
      "\n",
      "*****\n",
      "*   *\n",
      "*   *\n",
      "*   *\n",
      "*****\n"
     ]
    }
   ],
   "source": [
    "size=5\n",
    "# Beginners\n",
    "\n",
    "# hollow square pattern\n",
    "def hollow_square_pattern(size):\n",
    "    # print * completely in the first and last row\n",
    "    # print * only in the first and last position in other row\n",
    "    for i in range(size):\n",
    "        for j in range(size):\n",
    "            if i==0 or i==size-1 or j==0 or j==size-1:\n",
    "                print(\"*\",end='')\n",
    "            else:\n",
    "                print(\" \",end='')\n",
    "        print()\n",
    "\n",
    "hollow_square_pattern(size)\n",
    "\n",
    "print()\n",
    "# pro\n",
    "for i in range(size):\n",
    "    # print star in the first and last row\n",
    "    if i==0 or i == size -1:\n",
    "        print('*' * size)\n",
    "    else:\n",
    "        # print star in the first and last position in other rows\n",
    "        print('*' + \" \" * (size-2) + '*')"
   ]
  },
  {
   "cell_type": "markdown",
   "metadata": {},
   "source": [
    "## 3. Left Triangle Star Pattern In Python"
   ]
  },
  {
   "cell_type": "markdown",
   "metadata": {},
   "source": [
    "* Run a nested for loop where internal loop will run for number of times external loop has run.\n",
    "* Print star in each iteration of internal loop.\n",
    "* Print a new line at the end of internal loop."
   ]
  },
  {
   "cell_type": "code",
   "execution_count": 13,
   "metadata": {},
   "outputs": [
    {
     "name": "stdout",
     "output_type": "stream",
     "text": [
      "*\n",
      "**\n",
      "***\n",
      "****\n",
      "*****\n",
      "\n",
      "*\n",
      "**\n",
      "***\n",
      "****\n",
      "*****\n"
     ]
    }
   ],
   "source": [
    "size=5\n",
    "\n",
    "def left_triangle_star_pattern(size):\n",
    "    for i in range(1, size+1):\n",
    "        for j in range(1, i+1):\n",
    "            # internal loop run for i times\n",
    "            print('*', end='')\n",
    "        print()\n",
    "\n",
    "left_triangle_star_pattern(size)\n",
    "\n",
    "print()\n",
    "\n",
    "# pro\n",
    "for i in range(1, size+1):\n",
    "    print(\"*\" * i)"
   ]
  },
  {
   "cell_type": "markdown",
   "metadata": {},
   "source": [
    "## 4. Right Triangle Star Pattern In Python"
   ]
  },
  {
   "cell_type": "markdown",
   "metadata": {},
   "source": [
    "Steps to create a right triangle star pattern:\n",
    "\n",
    "* Create a loop that will run for the number of rows (size).\n",
    "* Inside this we will have 2 loops, first will print spaces and second will print stars. (look at pattern above)\n",
    "* Spaces will be printed for size - i times and stars will be printed for i times. Where i is the current row.\n",
    "* Print new line at the end of both internal loops."
   ]
  },
  {
   "cell_type": "code",
   "execution_count": 14,
   "metadata": {},
   "outputs": [
    {
     "name": "stdout",
     "output_type": "stream",
     "text": [
      "    *\n",
      "   **\n",
      "  ***\n",
      " ****\n",
      "*****\n",
      "\n",
      "    *\n",
      "   **\n",
      "  ***\n",
      " ****\n",
      "*****\n"
     ]
    }
   ],
   "source": [
    "\n",
    "# Beginners\n",
    "size=5\n",
    "def right_triangle_star_pattern(size):\n",
    "    for i in range(size):\n",
    "        for j in range(1, size-i):\n",
    "            print(\" \", end='')\n",
    "        for k in range(0, i+1):\n",
    "            print(\"*\", end='')\n",
    "        print()\n",
    "        \n",
    "right_triangle_star_pattern(size)\n",
    "print()\n",
    "\n",
    "# pro\n",
    "for i in range(1, size+1):\n",
    "    print(\" \" * (size-i) + \"*\" *i )"
   ]
  },
  {
   "cell_type": "markdown",
   "metadata": {},
   "source": [
    "## 5. Left Downward Triangle Pattern"
   ]
  },
  {
   "cell_type": "code",
   "execution_count": 15,
   "metadata": {},
   "outputs": [
    {
     "name": "stdout",
     "output_type": "stream",
     "text": [
      "*****\n",
      "****\n",
      "***\n",
      "**\n",
      "*\n",
      "\n",
      "*****\n",
      "****\n",
      "***\n",
      "**\n",
      "*\n"
     ]
    }
   ],
   "source": [
    "# beginners\n",
    "size=5\n",
    "\n",
    "for i in range(size):\n",
    "     # internal loop run for n-i times\n",
    "    for j in range(size-i):\n",
    "        print(\"*\", end='')\n",
    "    print()\n",
    "\n",
    "# pro\n",
    "print()\n",
    "\n",
    "for i in range(size):\n",
    "    print(\"*\" * (size-i))"
   ]
  },
  {
   "cell_type": "markdown",
   "metadata": {},
   "source": [
    "## 6. Right Downward Triangle Pattern"
   ]
  },
  {
   "cell_type": "markdown",
   "metadata": {},
   "source": [
    "Steps to create a right downward triangle pattern:\n",
    "\n",
    "* From the above given pattern you can see that, this also requires 2 internal loop.\n",
    "* First internal loop print spaces for i times and second internal loop print stars for size - i times.\n",
    "* Here i is index of the current row.\n",
    "* Print new line everytime after the internal loop."
   ]
  },
  {
   "cell_type": "code",
   "execution_count": 16,
   "metadata": {},
   "outputs": [
    {
     "name": "stdout",
     "output_type": "stream",
     "text": [
      "*****\n",
      " ****\n",
      "  ***\n",
      "   **\n",
      "    *\n"
     ]
    }
   ],
   "source": [
    "size =5 \n",
    "for i in range(size):\n",
    "    for j in range(i):\n",
    "        print(\" \", end=\"\")\n",
    "    for j in range(size, i, -1):\n",
    "        print(\"*\", end=\"\")\n",
    "    print()"
   ]
  },
  {
   "cell_type": "markdown",
   "metadata": {},
   "source": [
    "## 7. Hollow triangle star Pattern"
   ]
  },
  {
   "cell_type": "markdown",
   "metadata": {},
   "source": [
    "1. You can see the pattern up there be sure to understand it. Stars are printed only in first last column of any row, except the last row.\n",
    "2. Run a nested loop where external loop runs for the size of triangle.\n",
    "3. Inside create internal loop. Inside it check if its first or last row then print only stars. If not print starts only at first and last column else print spaces."
   ]
  },
  {
   "cell_type": "code",
   "execution_count": 2,
   "metadata": {},
   "outputs": [
    {
     "name": "stdout",
     "output_type": "stream",
     "text": [
      "*\n",
      "**\n",
      "* *\n",
      "*  *\n",
      "*****\n"
     ]
    }
   ],
   "source": [
    "size=5\n",
    "for i in range(1, size+1):\n",
    "    for j in range(i):\n",
    "        # print star only at start and end of the row\n",
    "        if j==0 or j==i-1:\n",
    "            print('*', end='')\n",
    "        # print only star if its last row\n",
    "        else:\n",
    "            if i!=size:\n",
    "                print(' ', end='')\n",
    "            else:\n",
    "                print(\"*\",end='')\n",
    "    print()"
   ]
  },
  {
   "cell_type": "markdown",
   "metadata": {},
   "source": [
    "## 8. Pyramid Pattern in python"
   ]
  },
  {
   "cell_type": "markdown",
   "metadata": {},
   "source": [
    "1. Again we need to nest the loops.\n",
    "2. Create 2 internal loop, first print spaces and second print stars.\n",
    "3. Print spaces for number of times equal to size - i and stars for 2 * i - 1  times.\n",
    "4. Here i is the current row."
   ]
  },
  {
   "cell_type": "code",
   "execution_count": 5,
   "metadata": {},
   "outputs": [
    {
     "name": "stdout",
     "output_type": "stream",
     "text": [
      "    *\n",
      "   ***\n",
      "  *****\n",
      " *******\n",
      "*********\n",
      "\n",
      "    *\n",
      "   ***\n",
      "  *****\n",
      " *******\n",
      "*********\n"
     ]
    }
   ],
   "source": [
    "# beginner\n",
    "size=5\n",
    "for i in range(1, size+1):\n",
    "    for j in range(size-i):\n",
    "        print(' ', end='')\n",
    "    for k in range(2*i-1):\n",
    "        print('*', end='')\n",
    "    print()\n",
    "\n",
    "\n",
    "print()\n",
    "\n",
    "for i in range(1, size+1):\n",
    "    print(\" \" * (size-i) + \"*\" * (2*i-1))"
   ]
  },
  {
   "cell_type": "markdown",
   "metadata": {},
   "source": [
    "## 9. Hollow Pyramid Pattern In Python"
   ]
  },
  {
   "cell_type": "markdown",
   "metadata": {},
   "source": [
    "1. You can observe that we have to handle spaces at 2 different places. First before printing star and second between the pyramid.\n",
    "2. Create nested loop with 2 internal loops. First loop just create space, second loop print both spaces & stars with some logics.\n",
    "3. The first internal loop print spaces for size - i times.\n",
    "4. The second internal loop pexecutes for 2 * i - 1 times and checks if it is first or last row then print star, if not check if it is first or last column then print star else print space."
   ]
  },
  {
   "cell_type": "code",
   "execution_count": 6,
   "metadata": {},
   "outputs": [
    {
     "name": "stdout",
     "output_type": "stream",
     "text": [
      "    *\n",
      "   * *\n",
      "  *   *\n",
      " *     *\n",
      "*********\n"
     ]
    }
   ],
   "source": [
    "size=5\n",
    "\n",
    "for i in range(1, size+1):\n",
    "    #printing spaces\n",
    "    for j in range(size-i):\n",
    "        print(' ', end='')\n",
    "    #printing stars\n",
    "    for k in range(2*i-1):\n",
    "        # print star at start and end of the row\n",
    "        if k==0 or k==2 *i -2:\n",
    "            print('*', end='')\n",
    "        else:\n",
    "            if i==size:\n",
    "                print('*',end='')\n",
    "            else:\n",
    "                print(' ', end='')\n",
    "    print()"
   ]
  },
  {
   "cell_type": "markdown",
   "metadata": {},
   "source": [
    "## 10. Reverse Pyramid Pattern In Python"
   ]
  },
  {
   "cell_type": "code",
   "execution_count": 7,
   "metadata": {},
   "outputs": [
    {
     "name": "stdout",
     "output_type": "stream",
     "text": [
      "*********\n",
      " *******\n",
      "  *****\n",
      "   ***\n",
      "    *\n"
     ]
    }
   ],
   "source": [
    "size=5\n",
    "\n",
    "for i in range(1, size+1):\n",
    "    #printing spaces\n",
    "    for j in range(i-1):\n",
    "        print(' ',end='')\n",
    "    # printing stars\n",
    "    for j in range(2*(size-i)+1):\n",
    "        print('*',end='')\n",
    "    print()"
   ]
  },
  {
   "cell_type": "markdown",
   "metadata": {},
   "source": [
    "## 11. Diamond Star Pattern In Python"
   ]
  },
  {
   "cell_type": "code",
   "execution_count": 8,
   "metadata": {},
   "outputs": [
    {
     "name": "stdout",
     "output_type": "stream",
     "text": [
      "    *\n",
      "   ***\n",
      "  *****\n",
      " *******\n",
      "*********\n",
      " *******\n",
      "  *****\n",
      "   ***\n",
      "    *\n"
     ]
    }
   ],
   "source": [
    "size=5\n",
    "\n",
    "# upward pyramid\n",
    "for i in range(size):\n",
    "    for j in range(size-i-1):\n",
    "        print(' ', end='')\n",
    "    for j in range(2*i +1):\n",
    "        print('*',end='')\n",
    "    print()\n",
    "\n",
    "# downward pyramid\n",
    "for i in range(size-1):\n",
    "    for j in range(i+1):\n",
    "        print(' ',end='')\n",
    "    for j in range(2*(size-i-1)-1):\n",
    "        print('*',end='')\n",
    "    print()"
   ]
  },
  {
   "cell_type": "markdown",
   "metadata": {},
   "source": [
    "## 12. Hollow Diamond Star Pattern In Python"
   ]
  },
  {
   "cell_type": "code",
   "execution_count": 9,
   "metadata": {},
   "outputs": [
    {
     "name": "stdout",
     "output_type": "stream",
     "text": [
      "    *\n",
      "   * *\n",
      "  *   *\n",
      " *     *\n",
      "*       *\n",
      " *     *\n",
      "  *   *\n",
      "   * *\n",
      "    *\n"
     ]
    }
   ],
   "source": [
    "size=5\n",
    "\n",
    "# upward hollow pyramid\n",
    "for i in range(size):\n",
    "    for j in range(size-i-1):\n",
    "        print(' ',end='')\n",
    "    for j in range(2*i+1):\n",
    "        if j== 0 or j==2*i:\n",
    "            print('*',end='')\n",
    "        else:\n",
    "            print(' ',end='')\n",
    "    print()\n",
    "\n",
    "# downward pyramid\n",
    "for i in range(size-1):\n",
    "    for j in range(i+1):\n",
    "        print(' ', end='')\n",
    "    for j in range(2*(size-i-1)-1):\n",
    "        if j==0 or j==2*(size-i-1)- 2:\n",
    "            print('*',end='') \n",
    "        else:\n",
    "            print(' ',end='')\n",
    "    print()\n"
   ]
  },
  {
   "cell_type": "markdown",
   "metadata": {},
   "source": [
    "## 13. Hourglass Star Pattern In Python"
   ]
  },
  {
   "cell_type": "code",
   "execution_count": 11,
   "metadata": {},
   "outputs": [
    {
     "name": "stdout",
     "output_type": "stream",
     "text": [
      "*********\n",
      " *******\n",
      "  *****\n",
      "   ***\n",
      "    *\n",
      "   ***\n",
      "  *****\n",
      " *******\n",
      "*********\n"
     ]
    }
   ],
   "source": [
    "size=5\n",
    "\n",
    "# downward pyramid\n",
    "for i in range(size-1):\n",
    "    for j in range(i):\n",
    "        print(' ',end='')\n",
    "    for k in range(2*(size-i)-1):\n",
    "        print('*',end='')\n",
    "    print()\n",
    "\n",
    "# upward pyramid\n",
    "for i in range(size):\n",
    "    for j in range(size-i-1):\n",
    "        print(' ', end='')\n",
    "    for j in range(2*i+1):\n",
    "        print('*',end='')\n",
    "    print()"
   ]
  },
  {
   "cell_type": "markdown",
   "metadata": {},
   "source": [
    "## 14. Right Pascal Star Pattern In Python"
   ]
  },
  {
   "cell_type": "code",
   "execution_count": 13,
   "metadata": {},
   "outputs": [
    {
     "name": "stdout",
     "output_type": "stream",
     "text": [
      "*\n",
      "**\n",
      "***\n",
      "****\n",
      "*****\n",
      "****\n",
      "***\n",
      "**\n",
      "*\n",
      "\n",
      "\n",
      "*\n",
      "**\n",
      "***\n",
      "****\n",
      "*****\n",
      "****\n",
      "***\n",
      "**\n",
      "*\n",
      "\n"
     ]
    }
   ],
   "source": [
    "#beginner\n",
    "size=5\n",
    "\n",
    "# upper triangle\n",
    "for i in range(size):\n",
    "    for j in range(i+1):\n",
    "        print('*',end='')\n",
    "    print()\n",
    "#lower triangle\n",
    "for i in range(size):\n",
    "    for j in range(size-i-1):\n",
    "        print('*',end='')\n",
    "    print()\n",
    "\n",
    "print()\n",
    "\n",
    "#pro\n",
    "for i in range(size):\n",
    "    print('*' * (i+1))\n",
    "for i in range(size):\n",
    "    print('*' * (size-i-1))"
   ]
  },
  {
   "cell_type": "markdown",
   "metadata": {},
   "source": [
    "## 15. Left Pascal Star Pattern In Python"
   ]
  },
  {
   "cell_type": "code",
   "execution_count": 14,
   "metadata": {},
   "outputs": [
    {
     "name": "stdout",
     "output_type": "stream",
     "text": [
      "    *\n",
      "   **\n",
      "  ***\n",
      " ****\n",
      "*****\n",
      " ****\n",
      "  ***\n",
      "   **\n",
      "    *\n"
     ]
    }
   ],
   "source": [
    "size=5\n",
    "\n",
    "# upper triangle\n",
    "for i in range(size):\n",
    "    #print spaces\n",
    "    for j in range(size-i-1):\n",
    "        print(' ', end='')\n",
    "    #printing stars\n",
    "    for k in range(i+1):\n",
    "        print('*', end='')\n",
    "    print()\n",
    "\n",
    "# lower triangle\n",
    "for i in range(size-1):\n",
    "    #print spaces\n",
    "    for j in range(i+1):\n",
    "        print(' ',end='')\n",
    "    # printing stars\n",
    "    for k in range(size-i-1):\n",
    "        print('*',end='')\n",
    "    print()"
   ]
  },
  {
   "cell_type": "markdown",
   "metadata": {},
   "source": [
    "## 16. Heart pattern in python"
   ]
  },
  {
   "cell_type": "code",
   "execution_count": 17,
   "metadata": {},
   "outputs": [
    {
     "name": "stdout",
     "output_type": "stream",
     "text": [
      " **   **\n",
      "**** ****\n",
      "*********\n",
      " *******\n",
      "  *****\n",
      "   ***\n",
      "    *\n"
     ]
    }
   ],
   "source": [
    "size=5\n",
    "\n",
    "# upper part of the heart\n",
    "for i in  range(size//2,size,2):\n",
    "    # printing first spaces\n",
    "    for j in range(1,size-i,2):\n",
    "        print(' ',end='')\n",
    "    # printing first stars\n",
    "    for j in range(1, i+1, 1):\n",
    "        print('*',end='')\n",
    "    # printing second spaces\n",
    "    for j in range(1,size-i+1, 1):\n",
    "        print(' ',end='')\n",
    "    for j in range(1,i+1, 1):\n",
    "        print('*',end='')\n",
    "    print()\n",
    "\n",
    "#lower part\n",
    "for i in range(size,0,-1):\n",
    "    for j in range(i,size,1):\n",
    "        print(' ',end='')\n",
    "    for j in range(1,i*2,1):\n",
    "        print('*',end='')\n",
    "    print()\n"
   ]
  },
  {
   "cell_type": "markdown",
   "metadata": {},
   "source": [
    "## 17. Plus pattern program in Python"
   ]
  },
  {
   "cell_type": "code",
   "execution_count": 18,
   "metadata": {},
   "outputs": [
    {
     "name": "stdout",
     "output_type": "stream",
     "text": [
      "  *  \n",
      "  *  \n",
      "*****\n",
      "  *  \n",
      "  *  \n"
     ]
    }
   ],
   "source": [
    "size = 5\n",
    "\n",
    "for i in range(size):\n",
    "    for j in range(size):\n",
    "        if i==size//2:\n",
    "            print('*',end='')\n",
    "        else:\n",
    "            if j==size//2:\n",
    "                print('*',end='')\n",
    "            else:\n",
    "                print(' ',end='')\n",
    "    print()"
   ]
  },
  {
   "cell_type": "markdown",
   "metadata": {},
   "source": [
    "## 18. Cross pattern program in Python"
   ]
  },
  {
   "cell_type": "code",
   "execution_count": 22,
   "metadata": {},
   "outputs": [
    {
     "name": "stdout",
     "output_type": "stream",
     "text": [
      "*   *\n",
      " * * \n",
      "  *  \n",
      " * * \n",
      "*   *\n"
     ]
    }
   ],
   "source": [
    "size =5\n",
    "\n",
    "for i in range(size):\n",
    "    for j in range(size):\n",
    "        if i==j or i+j ==size -1:\n",
    "            print('*',end='')\n",
    "        else:\n",
    "            print(' ',end='')\n",
    "    print()"
   ]
  },
  {
   "cell_type": "markdown",
   "metadata": {},
   "source": [
    "## 19. Left Number Triangle Pattern Program"
   ]
  },
  {
   "cell_type": "code",
   "execution_count": 23,
   "metadata": {},
   "outputs": [
    {
     "name": "stdout",
     "output_type": "stream",
     "text": [
      "1\n",
      "12\n",
      "123\n",
      "1234\n",
      "12345\n"
     ]
    }
   ],
   "source": [
    "size = 5\n",
    "\n",
    "for i in range(size):\n",
    "    for j in range(i+1):\n",
    "        print(j+1, end='')\n",
    "    print()"
   ]
  }
 ],
 "metadata": {
  "kernelspec": {
   "display_name": ".venv",
   "language": "python",
   "name": "python3"
  },
  "language_info": {
   "codemirror_mode": {
    "name": "ipython",
    "version": 3
   },
   "file_extension": ".py",
   "mimetype": "text/x-python",
   "name": "python",
   "nbconvert_exporter": "python",
   "pygments_lexer": "ipython3",
   "version": "3.12.2"
  }
 },
 "nbformat": 4,
 "nbformat_minor": 2
}
