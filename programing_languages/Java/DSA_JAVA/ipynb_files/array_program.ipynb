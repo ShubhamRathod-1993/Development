{
 "cells": [
  {
   "cell_type": "code",
   "execution_count": 1,
   "metadata": {
    "vscode": {
     "languageId": "java"
    }
   },
   "outputs": [
    {
     "name": "stdout",
     "output_type": "stream",
     "text": [
      "true\n"
     ]
    }
   ],
   "source": [
    "// Recursive function to check if `str[low…high]` is a palindrome or not\n",
    "public static boolean isPalindrome(String str, int low, int high)\n",
    "    {\n",
    "        return (low >= high) || (str.charAt(low) == str.charAt(high) &&\n",
    "                                isPalindrome(str, low + 1, high - 1));\n",
    "    }\n",
    " \n",
    "// Function to check if a given string is a rotated palindrome or not\n",
    "public static boolean isRotatedPalindrome(String str)\n",
    "{\n",
    "    // base case\n",
    "    if (str == null) {\n",
    "        return false;\n",
    "    }\n",
    "\n",
    "    // length of the given string\n",
    "    int n = str.length();\n",
    "\n",
    "    // check for all rotations of the given string if it\n",
    "    // is palindrome or not\n",
    "    for (int i = 0; i < n; i++)\n",
    "    {\n",
    "        // in-place rotate the string by 1 unit\n",
    "        str = str.substring(1) + str.charAt(0);\n",
    "\n",
    "        // return true if the rotation is a palindrome\n",
    "        if (isPalindrome(str, 0, n - 1)) {\n",
    "            return true;\n",
    "        }\n",
    "    }\n",
    "\n",
    "    // return false if no rotation is a palindrome\n",
    "    return false;\n",
    "}\n",
    "\n",
    "public static void runTask()\n",
    "{\n",
    "    String input=\"aya\";\n",
    "    System.out.println(isRotatedPalindrome(input));\n",
    "}\n",
    "runTask();"
   ]
  },
  {
   "cell_type": "code",
   "execution_count": 2,
   "metadata": {
    "vscode": {
     "languageId": "java"
    }
   },
   "outputs": [
    {
     "name": "stdout",
     "output_type": "stream",
     "text": [
      "Running the program with input\n",
      "54321"
     ]
    }
   ],
   "source": [
    "// Printing digits in reverse order:\n",
    "// 1234567890 -> 987654321\n",
    "public static void callMyself(int number){\n",
    "    if (number == 0) return;\n",
    "    \n",
    "    System.out.print(number % 10);\n",
    "    callMyself(number / 10);\n",
    "}\n",
    "\n",
    "public static void runTask()\n",
    "{\n",
    "    System.out.println(\"Running the program with input\");\n",
    "    int number=12345;\n",
    "    callMyself(number);\n",
    "}\n",
    "runTask();"
   ]
  },
  {
   "cell_type": "code",
   "execution_count": 55,
   "metadata": {
    "vscode": {
     "languageId": "java"
    }
   },
   "outputs": [
    {
     "name": "stdout",
     "output_type": "stream",
     "text": [
      "Running the program with input\n",
      "45\n"
     ]
    }
   ],
   "source": [
    "//  Sum of all natural numbers up to a given long:\n",
    "//  1 + 2 + ... + n = n * (n + 1) / 2\n",
    "\n",
    "public static long sumOfAllNumbers(long number){\n",
    "    if (number!=0){\n",
    "        return number + sumOfAllNumbers(number - 1);\n",
    "    }else {\n",
    "        return number;\n",
    "    }\n",
    "}\n",
    "\n",
    "public static void runTask()\n",
    "{\n",
    "    System.out.println(\"Running the program with input\");\n",
    "    long num=9;\n",
    "    System.out.println(sumOfAllNumbers(num));\n",
    "}\n",
    "runTask();"
   ]
  },
  {
   "cell_type": "code",
   "execution_count": 12,
   "metadata": {
    "vscode": {
     "languageId": "java"
    }
   },
   "outputs": [
    {
     "name": "stdout",
     "output_type": "stream",
     "text": [
      "Running the program with input\n"
     ]
    }
   ],
   "source": [
    "// Factorial of a given number:\n",
    "\n",
    "\n",
    "public static void runTask()\n",
    "{\n",
    "    System.out.println(\"Running the program with input\");\n",
    "\n",
    "    System.out.println();\n",
    "}\n",
    "runTask();"
   ]
  },
  {
   "cell_type": "code",
   "execution_count": 13,
   "metadata": {
    "vscode": {
     "languageId": "java"
    }
   },
   "outputs": [
    {
     "name": "stdout",
     "output_type": "stream",
     "text": [
      "Running the program with input\n"
     ]
    }
   ],
   "source": [
    "\n",
    "\n",
    "public static void runTask()\n",
    "{\n",
    "    System.out.println(\"Running the program with input\");\n",
    "\n",
    "    System.out.println();\n",
    "}\n",
    "runTask();"
   ]
  },
  {
   "cell_type": "code",
   "execution_count": 14,
   "metadata": {
    "vscode": {
     "languageId": "java"
    }
   },
   "outputs": [
    {
     "name": "stdout",
     "output_type": "stream",
     "text": [
      "Running the program with input\n"
     ]
    }
   ],
   "source": [
    "\n",
    "\n",
    "public static void runTask()\n",
    "{\n",
    "    System.out.println(\"Running the program with input\");\n",
    "\n",
    "    System.out.println();\n",
    "}\n",
    "runTask();"
   ]
  },
  {
   "cell_type": "code",
   "execution_count": 15,
   "metadata": {
    "vscode": {
     "languageId": "java"
    }
   },
   "outputs": [
    {
     "name": "stdout",
     "output_type": "stream",
     "text": [
      "Running the program with input\n"
     ]
    }
   ],
   "source": [
    "\n",
    "\n",
    "public static void runTask()\n",
    "{\n",
    "    System.out.println(\"Running the program with input\");\n",
    "\n",
    "    System.out.println();\n",
    "}\n",
    "runTask();"
   ]
  },
  {
   "cell_type": "code",
   "execution_count": 16,
   "metadata": {
    "vscode": {
     "languageId": "java"
    }
   },
   "outputs": [
    {
     "name": "stdout",
     "output_type": "stream",
     "text": [
      "Running the program with input\n"
     ]
    }
   ],
   "source": [
    "\n",
    "\n",
    "public static void runTask()\n",
    "{\n",
    "    System.out.println(\"Running the program with input\");\n",
    "\n",
    "    System.out.println();\n",
    "}\n",
    "runTask();"
   ]
  },
  {
   "cell_type": "code",
   "execution_count": 17,
   "metadata": {
    "vscode": {
     "languageId": "java"
    }
   },
   "outputs": [
    {
     "name": "stdout",
     "output_type": "stream",
     "text": [
      "Running the program with input\n"
     ]
    }
   ],
   "source": [
    "\n",
    "\n",
    "public static void runTask()\n",
    "{\n",
    "    System.out.println(\"Running the program with input\");\n",
    "\n",
    "    System.out.println();\n",
    "}\n",
    "runTask();"
   ]
  },
  {
   "cell_type": "code",
   "execution_count": 18,
   "metadata": {
    "vscode": {
     "languageId": "java"
    }
   },
   "outputs": [
    {
     "name": "stdout",
     "output_type": "stream",
     "text": [
      "Running the program with input\n"
     ]
    }
   ],
   "source": [
    "\n",
    "\n",
    "public static void runTask()\n",
    "{\n",
    "    System.out.println(\"Running the program with input\");\n",
    "\n",
    "    System.out.println();\n",
    "}\n",
    "runTask();"
   ]
  },
  {
   "cell_type": "code",
   "execution_count": 19,
   "metadata": {
    "vscode": {
     "languageId": "java"
    }
   },
   "outputs": [
    {
     "name": "stdout",
     "output_type": "stream",
     "text": [
      "Running the program with input\n"
     ]
    }
   ],
   "source": [
    "\n",
    "\n",
    "public static void runTask()\n",
    "{\n",
    "    System.out.println(\"Running the program with input\");\n",
    "\n",
    "    System.out.println();\n",
    "}\n",
    "runTask();"
   ]
  },
  {
   "cell_type": "code",
   "execution_count": 20,
   "metadata": {
    "vscode": {
     "languageId": "java"
    }
   },
   "outputs": [
    {
     "name": "stdout",
     "output_type": "stream",
     "text": [
      "Running the program with input\n"
     ]
    }
   ],
   "source": [
    "\n",
    "\n",
    "public static void runTask()\n",
    "{\n",
    "    System.out.println(\"Running the program with input\");\n",
    "\n",
    "    System.out.println();\n",
    "}\n",
    "runTask();"
   ]
  },
  {
   "cell_type": "code",
   "execution_count": 21,
   "metadata": {
    "vscode": {
     "languageId": "java"
    }
   },
   "outputs": [
    {
     "name": "stdout",
     "output_type": "stream",
     "text": [
      "Running the program with input\n"
     ]
    }
   ],
   "source": [
    "\n",
    "\n",
    "public static void runTask()\n",
    "{\n",
    "    System.out.println(\"Running the program with input\");\n",
    "\n",
    "    System.out.println();\n",
    "}\n",
    "runTask();"
   ]
  },
  {
   "cell_type": "code",
   "execution_count": 22,
   "metadata": {
    "vscode": {
     "languageId": "java"
    }
   },
   "outputs": [
    {
     "name": "stdout",
     "output_type": "stream",
     "text": [
      "Running the program with input\n"
     ]
    }
   ],
   "source": [
    "\n",
    "\n",
    "public static void runTask()\n",
    "{\n",
    "    System.out.println(\"Running the program with input\");\n",
    "\n",
    "    System.out.println();\n",
    "}\n",
    "runTask();"
   ]
  },
  {
   "cell_type": "code",
   "execution_count": 23,
   "metadata": {
    "vscode": {
     "languageId": "java"
    }
   },
   "outputs": [
    {
     "name": "stdout",
     "output_type": "stream",
     "text": [
      "Running the program with input\n"
     ]
    }
   ],
   "source": [
    "\n",
    "\n",
    "public static void runTask()\n",
    "{\n",
    "    System.out.println(\"Running the program with input\");\n",
    "\n",
    "    System.out.println();\n",
    "}\n",
    "runTask();"
   ]
  },
  {
   "cell_type": "code",
   "execution_count": 24,
   "metadata": {
    "vscode": {
     "languageId": "java"
    }
   },
   "outputs": [
    {
     "name": "stdout",
     "output_type": "stream",
     "text": [
      "Running the program with input\n"
     ]
    }
   ],
   "source": [
    "\n",
    "\n",
    "public static void runTask()\n",
    "{\n",
    "    System.out.println(\"Running the program with input\");\n",
    "\n",
    "    System.out.println();\n",
    "}\n",
    "runTask();"
   ]
  },
  {
   "cell_type": "code",
   "execution_count": 25,
   "metadata": {
    "vscode": {
     "languageId": "java"
    }
   },
   "outputs": [
    {
     "name": "stdout",
     "output_type": "stream",
     "text": [
      "Running the program with input\n"
     ]
    }
   ],
   "source": [
    "\n",
    "\n",
    "public static void runTask()\n",
    "{\n",
    "    System.out.println(\"Running the program with input\");\n",
    "\n",
    "    System.out.println();\n",
    "}\n",
    "runTask();"
   ]
  },
  {
   "cell_type": "code",
   "execution_count": 26,
   "metadata": {
    "vscode": {
     "languageId": "java"
    }
   },
   "outputs": [
    {
     "name": "stdout",
     "output_type": "stream",
     "text": [
      "Running the program with input\n"
     ]
    }
   ],
   "source": [
    "\n",
    "\n",
    "public static void runTask()\n",
    "{\n",
    "    System.out.println(\"Running the program with input\");\n",
    "\n",
    "    System.out.println();\n",
    "}\n",
    "runTask();"
   ]
  },
  {
   "cell_type": "code",
   "execution_count": 27,
   "metadata": {
    "vscode": {
     "languageId": "java"
    }
   },
   "outputs": [
    {
     "name": "stdout",
     "output_type": "stream",
     "text": [
      "Running the program with input\n"
     ]
    }
   ],
   "source": [
    "\n",
    "\n",
    "public static void runTask()\n",
    "{\n",
    "    System.out.println(\"Running the program with input\");\n",
    "\n",
    "    System.out.println();\n",
    "}\n",
    "runTask();"
   ]
  },
  {
   "cell_type": "code",
   "execution_count": 28,
   "metadata": {
    "vscode": {
     "languageId": "java"
    }
   },
   "outputs": [
    {
     "name": "stdout",
     "output_type": "stream",
     "text": [
      "Running the program with input\n"
     ]
    }
   ],
   "source": [
    "\n",
    "\n",
    "public static void runTask()\n",
    "{\n",
    "    System.out.println(\"Running the program with input\");\n",
    "\n",
    "    System.out.println();\n",
    "}\n",
    "runTask();"
   ]
  },
  {
   "cell_type": "code",
   "execution_count": 29,
   "metadata": {
    "vscode": {
     "languageId": "java"
    }
   },
   "outputs": [
    {
     "name": "stdout",
     "output_type": "stream",
     "text": [
      "Running the program with input\n"
     ]
    }
   ],
   "source": [
    "\n",
    "\n",
    "public static void runTask()\n",
    "{\n",
    "    System.out.println(\"Running the program with input\");\n",
    "\n",
    "    System.out.println();\n",
    "}\n",
    "runTask();"
   ]
  },
  {
   "cell_type": "code",
   "execution_count": 30,
   "metadata": {
    "vscode": {
     "languageId": "java"
    }
   },
   "outputs": [
    {
     "name": "stdout",
     "output_type": "stream",
     "text": [
      "Running the program with input\n"
     ]
    }
   ],
   "source": [
    "\n",
    "\n",
    "public static void runTask()\n",
    "{\n",
    "    System.out.println(\"Running the program with input\");\n",
    "\n",
    "    System.out.println();\n",
    "}\n",
    "runTask();"
   ]
  },
  {
   "cell_type": "code",
   "execution_count": 31,
   "metadata": {
    "vscode": {
     "languageId": "java"
    }
   },
   "outputs": [
    {
     "name": "stdout",
     "output_type": "stream",
     "text": [
      "Running the program with input\n"
     ]
    }
   ],
   "source": [
    "\n",
    "\n",
    "public static void runTask()\n",
    "{\n",
    "    System.out.println(\"Running the program with input\");\n",
    "\n",
    "    System.out.println();\n",
    "}\n",
    "runTask();"
   ]
  },
  {
   "cell_type": "code",
   "execution_count": 32,
   "metadata": {
    "vscode": {
     "languageId": "java"
    }
   },
   "outputs": [
    {
     "name": "stdout",
     "output_type": "stream",
     "text": [
      "Running the program with input\n"
     ]
    }
   ],
   "source": [
    "\n",
    "\n",
    "public static void runTask()\n",
    "{\n",
    "    System.out.println(\"Running the program with input\");\n",
    "\n",
    "    System.out.println();\n",
    "}\n",
    "runTask();"
   ]
  },
  {
   "cell_type": "code",
   "execution_count": 33,
   "metadata": {
    "vscode": {
     "languageId": "java"
    }
   },
   "outputs": [
    {
     "name": "stdout",
     "output_type": "stream",
     "text": [
      "Running the program with input\n"
     ]
    }
   ],
   "source": [
    "\n",
    "\n",
    "public static void runTask()\n",
    "{\n",
    "    System.out.println(\"Running the program with input\");\n",
    "\n",
    "    System.out.println();\n",
    "}\n",
    "runTask();"
   ]
  },
  {
   "cell_type": "code",
   "execution_count": 34,
   "metadata": {
    "vscode": {
     "languageId": "java"
    }
   },
   "outputs": [
    {
     "name": "stdout",
     "output_type": "stream",
     "text": [
      "Running the program with input\n"
     ]
    }
   ],
   "source": [
    "\n",
    "\n",
    "public static void runTask()\n",
    "{\n",
    "    System.out.println(\"Running the program with input\");\n",
    "\n",
    "    System.out.println();\n",
    "}\n",
    "runTask();"
   ]
  },
  {
   "cell_type": "code",
   "execution_count": 35,
   "metadata": {
    "vscode": {
     "languageId": "java"
    }
   },
   "outputs": [
    {
     "name": "stdout",
     "output_type": "stream",
     "text": [
      "Running the program with input\n"
     ]
    }
   ],
   "source": [
    "\n",
    "\n",
    "public static void runTask()\n",
    "{\n",
    "    System.out.println(\"Running the program with input\");\n",
    "\n",
    "    System.out.println();\n",
    "}\n",
    "runTask();"
   ]
  },
  {
   "cell_type": "code",
   "execution_count": 36,
   "metadata": {
    "vscode": {
     "languageId": "java"
    }
   },
   "outputs": [
    {
     "name": "stdout",
     "output_type": "stream",
     "text": [
      "Running the program with input\n"
     ]
    }
   ],
   "source": [
    "\n",
    "\n",
    "public static void runTask()\n",
    "{\n",
    "    System.out.println(\"Running the program with input\");\n",
    "\n",
    "    System.out.println();\n",
    "}\n",
    "runTask();"
   ]
  },
  {
   "cell_type": "code",
   "execution_count": 37,
   "metadata": {
    "vscode": {
     "languageId": "java"
    }
   },
   "outputs": [
    {
     "name": "stdout",
     "output_type": "stream",
     "text": [
      "Running the program with input\n"
     ]
    }
   ],
   "source": [
    "\n",
    "\n",
    "public static void runTask()\n",
    "{\n",
    "    System.out.println(\"Running the program with input\");\n",
    "\n",
    "    System.out.println();\n",
    "}\n",
    "runTask();"
   ]
  },
  {
   "cell_type": "code",
   "execution_count": 38,
   "metadata": {
    "vscode": {
     "languageId": "java"
    }
   },
   "outputs": [
    {
     "name": "stdout",
     "output_type": "stream",
     "text": [
      "Running the program with input\n"
     ]
    }
   ],
   "source": [
    "\n",
    "\n",
    "public static void runTask()\n",
    "{\n",
    "    System.out.println(\"Running the program with input\");\n",
    "\n",
    "    System.out.println();\n",
    "}\n",
    "runTask();"
   ]
  },
  {
   "cell_type": "code",
   "execution_count": 39,
   "metadata": {
    "vscode": {
     "languageId": "java"
    }
   },
   "outputs": [
    {
     "name": "stdout",
     "output_type": "stream",
     "text": [
      "Running the program with input\n"
     ]
    }
   ],
   "source": [
    "\n",
    "\n",
    "public static void runTask()\n",
    "{\n",
    "    System.out.println(\"Running the program with input\");\n",
    "\n",
    "    System.out.println();\n",
    "}\n",
    "runTask();"
   ]
  },
  {
   "cell_type": "code",
   "execution_count": 40,
   "metadata": {
    "vscode": {
     "languageId": "java"
    }
   },
   "outputs": [
    {
     "name": "stdout",
     "output_type": "stream",
     "text": [
      "Running the program with input\n"
     ]
    }
   ],
   "source": [
    "\n",
    "\n",
    "public static void runTask()\n",
    "{\n",
    "    System.out.println(\"Running the program with input\");\n",
    "\n",
    "    System.out.println();\n",
    "}\n",
    "runTask();"
   ]
  },
  {
   "cell_type": "code",
   "execution_count": 41,
   "metadata": {
    "vscode": {
     "languageId": "java"
    }
   },
   "outputs": [
    {
     "name": "stdout",
     "output_type": "stream",
     "text": [
      "Running the program with input\n"
     ]
    }
   ],
   "source": [
    "\n",
    "\n",
    "public static void runTask()\n",
    "{\n",
    "    System.out.println(\"Running the program with input\");\n",
    "\n",
    "    System.out.println();\n",
    "}\n",
    "runTask();"
   ]
  },
  {
   "cell_type": "code",
   "execution_count": 42,
   "metadata": {
    "vscode": {
     "languageId": "java"
    }
   },
   "outputs": [
    {
     "name": "stdout",
     "output_type": "stream",
     "text": [
      "Running the program with input\n"
     ]
    }
   ],
   "source": [
    "\n",
    "\n",
    "public static void runTask()\n",
    "{\n",
    "    System.out.println(\"Running the program with input\");\n",
    "\n",
    "    System.out.println();\n",
    "}\n",
    "runTask();"
   ]
  },
  {
   "cell_type": "code",
   "execution_count": 43,
   "metadata": {
    "vscode": {
     "languageId": "java"
    }
   },
   "outputs": [
    {
     "name": "stdout",
     "output_type": "stream",
     "text": [
      "Running the program with input\n"
     ]
    }
   ],
   "source": [
    "\n",
    "\n",
    "public static void runTask()\n",
    "{\n",
    "    System.out.println(\"Running the program with input\");\n",
    "\n",
    "    System.out.println();\n",
    "}\n",
    "runTask();"
   ]
  },
  {
   "cell_type": "code",
   "execution_count": 44,
   "metadata": {
    "vscode": {
     "languageId": "java"
    }
   },
   "outputs": [
    {
     "name": "stdout",
     "output_type": "stream",
     "text": [
      "Running the program with input\n"
     ]
    }
   ],
   "source": [
    "\n",
    "\n",
    "public static void runTask()\n",
    "{\n",
    "    System.out.println(\"Running the program with input\");\n",
    "\n",
    "    System.out.println();\n",
    "}\n",
    "runTask();"
   ]
  },
  {
   "cell_type": "code",
   "execution_count": 45,
   "metadata": {
    "vscode": {
     "languageId": "java"
    }
   },
   "outputs": [
    {
     "name": "stdout",
     "output_type": "stream",
     "text": [
      "Running the program with input\n"
     ]
    }
   ],
   "source": [
    "\n",
    "\n",
    "public static void runTask()\n",
    "{\n",
    "    System.out.println(\"Running the program with input\");\n",
    "\n",
    "    System.out.println();\n",
    "}\n",
    "runTask();"
   ]
  },
  {
   "cell_type": "code",
   "execution_count": 46,
   "metadata": {
    "vscode": {
     "languageId": "java"
    }
   },
   "outputs": [
    {
     "name": "stdout",
     "output_type": "stream",
     "text": [
      "Running the program with input\n"
     ]
    }
   ],
   "source": [
    "\n",
    "\n",
    "public static void runTask()\n",
    "{\n",
    "    System.out.println(\"Running the program with input\");\n",
    "\n",
    "    System.out.println();\n",
    "}\n",
    "runTask();"
   ]
  },
  {
   "cell_type": "code",
   "execution_count": 47,
   "metadata": {
    "vscode": {
     "languageId": "java"
    }
   },
   "outputs": [
    {
     "name": "stdout",
     "output_type": "stream",
     "text": [
      "Running the program with input\n"
     ]
    }
   ],
   "source": [
    "\n",
    "\n",
    "public static void runTask()\n",
    "{\n",
    "    System.out.println(\"Running the program with input\");\n",
    "\n",
    "    System.out.println();\n",
    "}\n",
    "runTask();"
   ]
  },
  {
   "cell_type": "code",
   "execution_count": 48,
   "metadata": {
    "vscode": {
     "languageId": "java"
    }
   },
   "outputs": [
    {
     "name": "stdout",
     "output_type": "stream",
     "text": [
      "Running the program with input\n"
     ]
    }
   ],
   "source": [
    "\n",
    "\n",
    "public static void runTask()\n",
    "{\n",
    "    System.out.println(\"Running the program with input\");\n",
    "\n",
    "    System.out.println();\n",
    "}\n",
    "runTask();"
   ]
  },
  {
   "cell_type": "code",
   "execution_count": null,
   "metadata": {
    "vscode": {
     "languageId": "java"
    }
   },
   "outputs": [],
   "source": [
    "\n",
    "\n",
    "public static void runTask()\n",
    "{\n",
    "    System.out.println(\"Running the program with input\");\n",
    "\n",
    "    System.out.println();\n",
    "}\n",
    "runTask();"
   ]
  }
 ],
 "metadata": {
  "kernelspec": {
   "display_name": "Java",
   "language": "java",
   "name": "java"
  },
  "language_info": {
   "codemirror_mode": "java",
   "file_extension": ".jshell",
   "mimetype": "text/x-java-source",
   "name": "Java",
   "pygments_lexer": "java",
   "version": "17.0.9+9-Ubuntu-122.04"
  }
 },
 "nbformat": 4,
 "nbformat_minor": 2
}
